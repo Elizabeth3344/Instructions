{
 "cells": [
  {
   "cell_type": "markdown",
   "metadata": {},
   "source": [
    "# Вычисление коэффициента диффузии"
   ]
  },
  {
   "cell_type": "code",
   "execution_count": 35,
   "metadata": {},
   "outputs": [],
   "source": [
    "import numpy as np\n",
    "import matplotlib.pyplot as plt"
   ]
  },
  {
   "cell_type": "code",
   "execution_count": 36,
   "metadata": {},
   "outputs": [],
   "source": [
    "data = np.genfromtxt('./msd_oxygen.out')"
   ]
  },
  {
   "cell_type": "code",
   "execution_count": 37,
   "metadata": {},
   "outputs": [
    {
     "name": "stdout",
     "output_type": "stream",
     "text": [
      "[[0.00000e+00 0.00000e+00]\n",
      " [1.00000e+03 1.47350e+00]\n",
      " [2.00000e+03 2.72223e+00]\n",
      " [3.00000e+03 4.20433e+00]\n",
      " [4.00000e+03 5.94079e+00]\n",
      " [5.00000e+03 7.51508e+00]\n",
      " [6.00000e+03 9.56164e+00]\n",
      " [7.00000e+03 1.13506e+01]\n",
      " [8.00000e+03 1.34855e+01]\n",
      " [9.00000e+03 1.55918e+01]\n",
      " [1.00000e+04 1.71995e+01]\n",
      " [1.10000e+04 1.89355e+01]\n",
      " [1.20000e+04 2.00821e+01]\n",
      " [1.30000e+04 2.11073e+01]\n",
      " [1.40000e+04 2.13324e+01]\n",
      " [1.50000e+04 2.20515e+01]\n",
      " [1.60000e+04 2.35307e+01]\n",
      " [1.70000e+04 2.40406e+01]\n",
      " [1.80000e+04 2.50336e+01]\n",
      " [1.90000e+04 2.66335e+01]\n",
      " [2.00000e+04 2.74823e+01]\n",
      " [2.10000e+04 2.78319e+01]\n",
      " [2.20000e+04 2.91870e+01]\n",
      " [2.30000e+04 3.00976e+01]\n",
      " [2.40000e+04 3.10568e+01]\n",
      " [2.50000e+04 3.13987e+01]\n",
      " [2.60000e+04 3.24329e+01]\n",
      " [2.70000e+04 3.31062e+01]\n",
      " [2.80000e+04 3.39082e+01]\n",
      " [2.90000e+04 3.43449e+01]\n",
      " [3.00000e+04 3.54523e+01]\n",
      " [3.10000e+04 3.64079e+01]\n",
      " [3.20000e+04 3.71058e+01]\n",
      " [3.30000e+04 3.79120e+01]\n",
      " [3.40000e+04 3.94669e+01]\n",
      " [3.50000e+04 3.93741e+01]\n",
      " [3.60000e+04 4.04995e+01]\n",
      " [3.70000e+04 4.12899e+01]\n",
      " [3.80000e+04 4.16348e+01]\n",
      " [3.90000e+04 4.17544e+01]\n",
      " [4.00000e+04 4.29627e+01]]\n"
     ]
    }
   ],
   "source": [
    "print(data)"
   ]
  },
  {
   "cell_type": "code",
   "execution_count": 38,
   "metadata": {},
   "outputs": [],
   "source": [
    "dr = data[:, -1]\n",
    "t = data[:, 0]"
   ]
  },
  {
   "cell_type": "code",
   "execution_count": 48,
   "metadata": {},
   "outputs": [
    {
     "data": {
      "image/png": "[encoded data removed]",
      "text/plain": [
       "<Figure size 640x480 with 1 Axes>"
      ]
     },
     "metadata": {},
     "output_type": "display_data"
    }
   ],
   "source": [
    "plt.plot(t, dr, '.')\n",
    "plt.savefig(\"test_diff.png\")\n",
    "plt.show()\n"
   ]
  },
  {
   "cell_type": "code",
   "execution_count": 47,
   "metadata": {},
   "outputs": [
    {
     "name": "stdout",
     "output_type": "stream",
     "text": [
      "[False False False False False False False False False False False False\n",
      " False False False  True  True  True  True  True  True  True  True  True\n",
      "  True  True  True  True  True  True  True  True  True  True  True  True\n",
      "  True  True  True  True  True]\n",
      "40000.0 15000.0\n",
      "42.9627 22.0515\n",
      "0.000139408\n",
      "0.00013726150997151\n"
     ]
    }
   ],
   "source": [
    "from scipy.stats import linregress\n",
    "\n",
    "mask = t >= 15_000\n",
    "print(mask) \n",
    "\n",
    "t_min = 0\n",
    "t_max = t[-1]\n",
    "dr_min = 0\n",
    "dr_max = dr[-1]\n",
    "\n",
    "for i in range(len(mask)):\n",
    "    if mask[i] == True:\n",
    "        t_min = t[i]\n",
    "        dr_min = dr[i]\n",
    "        break\n",
    "\n",
    "print(t_max, t_min)\n",
    "print(dr_max, dr_min)\n",
    "print((dr_max-dr_min)/(t_max-t_min)/6)\n",
    "\n",
    "slope, _, _, _, _ = linregress(t[mask], dr[mask])\n",
    "print(slope / 6)"
   ]
  },
  {
   "cell_type": "code",
   "execution_count": null,
   "metadata": {},
   "outputs": [],
   "source": []
  }
 ],
 "metadata": {
  "kernelspec": {
   "display_name": ".venv",
   "language": "python",
   "name": "python3"
  },
  "language_info": {
   "codemirror_mode": {
    "name": "ipython",
    "version": 3
   },
   "file_extension": ".py",
   "mimetype": "text/x-python",
   "name": "python",
   "nbconvert_exporter": "python",
   "pygments_lexer": "ipython3",
   "version": "3.10.12"
  }
 },
 "nbformat": 4,
 "nbformat_minor": 2
}
